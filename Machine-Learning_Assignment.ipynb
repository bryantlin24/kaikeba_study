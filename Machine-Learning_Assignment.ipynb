{
 "cells": [
  {
   "cell_type": "code",
   "execution_count": 2,
   "metadata": {},
   "outputs": [
    {
     "name": "stdout",
     "output_type": "stream",
     "text": [
      "[(3.3105890714493698, 1), (3.5227829907617068, 2), (3.6400549446402586, 1), (6.657326790837295, 2), (7.702596964660684, 2), (7.789736837660179, 1)]\n",
      "********************\n",
      "[(0.7211102550927979, 2), (1.8110770276274837, 1), (3.1384709652950433, 1), (3.736308338453881, 1), (4.648655719667784, 2), (4.992995093127971, 2)]\n",
      "********************\n",
      "[(1.9646882704388502, 2), (2.3194827009486403, 2), (2.33238075793812, 1), (3.5057096285916205, 2), (4.94064773081425, 1), (5.70350769263968, 1)]\n",
      "********************\n",
      "[1, 2, 2]\n"
     ]
    }
   ],
   "source": [
    "from collections import Counter\n",
    "import math\n",
    "\n",
    "\n",
    "\n",
    "x1 = [(1,1),(0.4,5.2),(-2.8,-1.1),(3.2,1.4),(-1.3,3.2),(-3,3.1)]\n",
    "y = [2,1,2,1,1,2]\n",
    "x2 = [(-2.6,6.6),(1.4,1.6),(-2.5,1.2)]\n",
    "res = []\n",
    "\n",
    "for point in x2: \n",
    "    dist = []\n",
    "    for i,item in enumerate(x1):\n",
    "        dis = math.sqrt((item[0]-point[0])**2+(item[1]-point[1])**2)\n",
    "        dist.append((dis,y[i])) # 记录到某点的距离以及该点标签的元组\n",
    "    dist.sort(key=lambda x:x[0]) # 按照距离进行排序\n",
    "    print(dist)\n",
    "    print(\"*\"*20)\n",
    "    \n",
    "    vote = [i[1] for i in dist[:1]] # 记录下最近的K个点的标签\n",
    "    print(vote)\n",
    "    c = Counter(vote)\n",
    "    single_label = c.most_common(1) # 记录k个点的标签中最多的那一个\n",
    "    #print(single_label)\n",
    "    res.append(single_label[0][0])  \n",
    "print(res)"
   ]
  },
  {
   "cell_type": "raw",
   "metadata": {},
   "source": []
  },
  {
   "cell_type": "code",
   "execution_count": null,
   "metadata": {},
   "outputs": [],
   "source": []
  }
 ],
 "metadata": {
  "kernelspec": {
   "display_name": "Python 3",
   "language": "python",
   "name": "python3"
  },
  "language_info": {
   "codemirror_mode": {
    "name": "ipython",
    "version": 3
   },
   "file_extension": ".py",
   "mimetype": "text/x-python",
   "name": "python",
   "nbconvert_exporter": "python",
   "pygments_lexer": "ipython3",
   "version": "3.7.4"
  }
 },
 "nbformat": 4,
 "nbformat_minor": 4
}
